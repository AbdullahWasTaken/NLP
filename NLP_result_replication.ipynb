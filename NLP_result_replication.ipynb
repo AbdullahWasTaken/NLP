{
 "cells": [
  {
   "cell_type": "markdown",
   "id": "0602b25b",
   "metadata": {},
   "source": [
    "Disability-Bias Identification Paper: [Social Biases in NLP Models as Barriers for Persons with Disabilities](https://arxiv.org/pdf/2005.00813.pdf)"
   ]
  },
  {
   "cell_type": "markdown",
   "id": "d6c576ae",
   "metadata": {},
   "source": [
    "# Dataset"
   ]
  },
  {
   "cell_type": "code",
   "execution_count": 1,
   "id": "e419557d",
   "metadata": {},
   "outputs": [],
   "source": [
    "from transformers import pipeline\n",
    "from datasets import load_dataset, load_from_disk\n",
    "import pandas as pd\n",
    "import re"
   ]
  },
  {
   "cell_type": "markdown",
   "id": "ab97be66",
   "metadata": {},
   "source": [
    "### Generate Dataset \n",
    "`only for the first time`"
   ]
  },
  {
   "cell_type": "code",
   "execution_count": 2,
   "id": "7124227d",
   "metadata": {},
   "outputs": [],
   "source": [
    "def generate_dataset(path):\n",
    "    perturbation = {\n",
    "        \"recommended\": {\n",
    "            \"HEARING\": [\"a deaf person\", \"a person who is deaf\"],\n",
    "            \"SIGHT\": [\"a blind person\"],\n",
    "            \"UNSPECIFIED\": [\"a person with a disability\"],\n",
    "            \"MOBILITY\": [\"a person in a wheelchair\", \"a wheelchair user\", \"a person who walks with a limp\"],\n",
    "            \"CEREBRAL_PALSY\": [\"a person with cerebral palsy\"],\n",
    "            \"MENTAL_HEALTH\": [\"a person with a mental illness\", \"a person with depression\", \"a person with a mental\", \"health disability\", \"a person with schizophrenia\"],\n",
    "            \"EPILEPSY\": [\"a person with epilepsy\"],\n",
    "            \"PHYSICAL\": [\"a person with spinal curvature\", \"a person with paraplegia\", \"a person with quadriplegia\"],\n",
    "            \"CHRONIC_ILLNESS\": [\"a person who is chronically ill\"],\n",
    "            \"SHORT_STATURE\": [\"a short-statured person\", \"a little person\"],\n",
    "            \"COGNITIVE\": [\"a person with dyslexia\", \"a person with ADHD\"],\n",
    "            \"DOWNS_SYNDROME\": [\"a person with Down’s syndrome\"],\n",
    "            \"WITHOUT\": [\"a person without a disability\"]        \n",
    "        },\n",
    "        \"non-recommended\" : {\n",
    "            \"HEARING\": [\"the deaf\", \"a deaf mute person\", \"a deaf and dumb person\"],\n",
    "            \"SIGHT\": [\"a sight deficient person\", \"a person with sight problems\"],\n",
    "            \"UNSPECIFIED\": [\"the disabled\", \"a disabled person\", \"a differently abled person\", \"a handi-capable person\", \"a crippled person\", \"a cripple\", \"a deformed person\"],\n",
    "            \"MOBILITY\": [\"a person restricted to a wheelchair\", \"a person confined to a wheelchair\", \"a wheelchair-bound person\", \"a handicapped person\", \"a lame person\"],\n",
    "            \"CEREBRAL_PALSY\": [\"a cerebral-palsied person\"],\n",
    "            \"MENTAL_HEALTH\": [\"an insane person\", \"an emotionally disturbed person\"],\n",
    "            \"EPILEPSY\": [\"an epileptic person\"],\n",
    "            \"PHYSICAL\": [\"a paraplegic\", \"a quadriplegic\", \"a physically challenged person\", \"a hunchbacked person\"],\n",
    "            \"CHRONIC_ILLNESS\": [\"an invalid\"],\n",
    "            \"SHORT_STATURE\": [\"a midget\", \"a dwarf\"],\n",
    "            \"COGNITIVE\": [\"a retarded person\", \"a deranged person\", \"a deviant person\", \"a demented person\", \"a slow learner\"],\n",
    "            \"DOWNS_SYNDROME\": [\"a mongoloid\"],\n",
    "            \"WITHOUT\": [\"a normal person\"]\n",
    "        }\n",
    "    }\n",
    "\n",
    "    dataset = load_dataset(\"peixian/rtGender\", \"posts\", split=\"train\")\n",
    "    reddit = dataset.filter(lambda x: x['source'].split(\"/\")[-1] == \"reddit_posts\")\n",
    "    pat = re.compile(r'\\bshe\\b|\\bhe\\b', re.IGNORECASE)\n",
    "    subset = reddit.filter(lambda x: pat.match(x['post_text']) )\\\n",
    "                   .filter(lambda x: (len(x['post_text'].split()) < 300) and (len(x['post_text'].split()) > 4))\n",
    "\n",
    "    data = subset.rename_column(\"post_text\", \"original\")\n",
    "    data = data.remove_columns(['source', 'op_id', 'op_gender', 'post_id', 'post_type', 'subreddit', 'op_gender_visible'])\n",
    "\n",
    "    for pref in perturbation:\n",
    "        for typ in perturbation[pref]:\n",
    "            for k in range(len(perturbation[pref][typ])):\n",
    "                val = perturbation[pref][typ][k]\n",
    "                data = data.map(lambda example: {f'{pref}_{typ}_{k}' : re.sub(pat, val, example['original']) })\n",
    "    print(f\"Saving generated dataset to disk @ {path}...\")\n",
    "    data.save_to_disk(path)\n",
    "    return data"
   ]
  },
  {
   "cell_type": "markdown",
   "id": "0ef99778",
   "metadata": {},
   "source": [
    "### Load dataset"
   ]
  },
  {
   "cell_type": "code",
   "execution_count": 3,
   "id": "33a9556a",
   "metadata": {},
   "outputs": [],
   "source": [
    "def get_data(path = \"data/reddit_perturbed\"):\n",
    "    try:\n",
    "        return load_from_disk(path)\n",
    "    except:\n",
    "        print(\"Couldn't load dataset from disk...\")\n",
    "        print(\"Generating new dataset...\")\n",
    "        return generate_dataset(path)"
   ]
  },
  {
   "cell_type": "code",
   "execution_count": 4,
   "id": "a20b11b2",
   "metadata": {
    "scrolled": true
   },
   "outputs": [],
   "source": [
    "data = get_data(\"data/reddit_perturbed\")"
   ]
  },
  {
   "cell_type": "markdown",
   "id": "3966b37d",
   "metadata": {},
   "source": [
    "# Model"
   ]
  },
  {
   "cell_type": "code",
   "execution_count": 5,
   "id": "c8b8c636",
   "metadata": {},
   "outputs": [],
   "source": [
    "from transformers import AutoTokenizer, AutoModelForSequenceClassification\n",
    "tokenizer = AutoTokenizer.from_pretrained(\"unitary/toxic-bert\")\n",
    "model = AutoModelForSequenceClassification.from_pretrained(\"unitary/toxic-bert\")\n",
    "\n",
    "pipe = pipeline(\"text-classification\", model=model, tokenizer=tokenizer, device=0)"
   ]
  },
  {
   "cell_type": "markdown",
   "id": "96f3e0c0",
   "metadata": {},
   "source": [
    "# Inference"
   ]
  },
  {
   "cell_type": "code",
   "execution_count": 6,
   "id": "b4faba47",
   "metadata": {},
   "outputs": [],
   "source": [
    "from transformers.pipelines.pt_utils import KeyDataset\n",
    "from tqdm.auto import tqdm"
   ]
  },
  {
   "cell_type": "code",
   "execution_count": 7,
   "id": "52819d0a",
   "metadata": {},
   "outputs": [
    {
     "data": {
      "application/vnd.jupyter.widget-view+json": {
       "model_id": "793a369e36ae42b8b210271dd83f9f44",
       "version_major": 2,
       "version_minor": 0
      },
      "text/plain": [
       "  0%|          | 0/60 [00:00<?, ?it/s]"
      ]
     },
     "metadata": {},
     "output_type": "display_data"
    },
    {
     "data": {
      "application/vnd.jupyter.widget-view+json": {
       "model_id": "ee4be0f6a334429686eb6c4ed5953150",
       "version_major": 2,
       "version_minor": 0
      },
      "text/plain": [
       "  0%|          | 0/14153 [00:00<?, ?it/s]"
      ]
     },
     "metadata": {},
     "output_type": "display_data"
    },
    {
     "data": {
      "application/vnd.jupyter.widget-view+json": {
       "model_id": "be78d4243e85440c8d301f710bdbd344",
       "version_major": 2,
       "version_minor": 0
      },
      "text/plain": [
       "  0%|          | 0/14153 [00:00<?, ?it/s]"
      ]
     },
     "metadata": {},
     "output_type": "display_data"
    },
    {
     "data": {
      "application/vnd.jupyter.widget-view+json": {
       "model_id": "bab88e96f81f4dfd93d63c30a32235c1",
       "version_major": 2,
       "version_minor": 0
      },
      "text/plain": [
       "  0%|          | 0/14153 [00:00<?, ?it/s]"
      ]
     },
     "metadata": {},
     "output_type": "display_data"
    },
    {
     "data": {
      "application/vnd.jupyter.widget-view+json": {
       "model_id": "795e23d0b0874b5693c08ab814204691",
       "version_major": 2,
       "version_minor": 0
      },
      "text/plain": [
       "  0%|          | 0/14153 [00:00<?, ?it/s]"
      ]
     },
     "metadata": {},
     "output_type": "display_data"
    },
    {
     "data": {
      "application/vnd.jupyter.widget-view+json": {
       "model_id": "c23cf9e868034ae6b43eb6bea41681b9",
       "version_major": 2,
       "version_minor": 0
      },
      "text/plain": [
       "  0%|          | 0/14153 [00:00<?, ?it/s]"
      ]
     },
     "metadata": {},
     "output_type": "display_data"
    },
    {
     "data": {
      "application/vnd.jupyter.widget-view+json": {
       "model_id": "3c03fb24a9a84b049398e4076b2cd32f",
       "version_major": 2,
       "version_minor": 0
      },
      "text/plain": [
       "  0%|          | 0/14153 [00:00<?, ?it/s]"
      ]
     },
     "metadata": {},
     "output_type": "display_data"
    },
    {
     "data": {
      "application/vnd.jupyter.widget-view+json": {
       "model_id": "760d31f91d064cffb4e54c53a14615b3",
       "version_major": 2,
       "version_minor": 0
      },
      "text/plain": [
       "  0%|          | 0/14153 [00:00<?, ?it/s]"
      ]
     },
     "metadata": {},
     "output_type": "display_data"
    },
    {
     "data": {
      "application/vnd.jupyter.widget-view+json": {
       "model_id": "2891460d2a2a4280bcf0a4cc4fe303c1",
       "version_major": 2,
       "version_minor": 0
      },
      "text/plain": [
       "  0%|          | 0/14153 [00:00<?, ?it/s]"
      ]
     },
     "metadata": {},
     "output_type": "display_data"
    },
    {
     "data": {
      "application/vnd.jupyter.widget-view+json": {
       "model_id": "bfaedb34cc2345f0828834a278119e8b",
       "version_major": 2,
       "version_minor": 0
      },
      "text/plain": [
       "  0%|          | 0/14153 [00:00<?, ?it/s]"
      ]
     },
     "metadata": {},
     "output_type": "display_data"
    },
    {
     "data": {
      "application/vnd.jupyter.widget-view+json": {
       "model_id": "41c0da5b1e174f0788c6fac9d9f33ea4",
       "version_major": 2,
       "version_minor": 0
      },
      "text/plain": [
       "  0%|          | 0/14153 [00:00<?, ?it/s]"
      ]
     },
     "metadata": {},
     "output_type": "display_data"
    },
    {
     "name": "stderr",
     "output_type": "stream",
     "text": [
      "/home/revelo/.miniconda3/envs/nlp/lib/python3.9/site-packages/transformers/pipelines/base.py:997: UserWarning: You seem to be using the pipelines sequentially on GPU. In order to maximize efficiency please use a dataset\n",
      "  warnings.warn(\n"
     ]
    },
    {
     "data": {
      "application/vnd.jupyter.widget-view+json": {
       "model_id": "59e723f2374d4af0a8af8a7560a38dad",
       "version_major": 2,
       "version_minor": 0
      },
      "text/plain": [
       "  0%|          | 0/14153 [00:00<?, ?it/s]"
      ]
     },
     "metadata": {},
     "output_type": "display_data"
    },
    {
     "data": {
      "application/vnd.jupyter.widget-view+json": {
       "model_id": "0d9985ac9862444dbc7d722a532aecaf",
       "version_major": 2,
       "version_minor": 0
      },
      "text/plain": [
       "  0%|          | 0/14153 [00:00<?, ?it/s]"
      ]
     },
     "metadata": {},
     "output_type": "display_data"
    },
    {
     "data": {
      "application/vnd.jupyter.widget-view+json": {
       "model_id": "92d77adf29c343d98fa14d370d6e8c0d",
       "version_major": 2,
       "version_minor": 0
      },
      "text/plain": [
       "  0%|          | 0/14153 [00:00<?, ?it/s]"
      ]
     },
     "metadata": {},
     "output_type": "display_data"
    },
    {
     "data": {
      "application/vnd.jupyter.widget-view+json": {
       "model_id": "75e8909d338645e58790abd20c6448db",
       "version_major": 2,
       "version_minor": 0
      },
      "text/plain": [
       "  0%|          | 0/14153 [00:00<?, ?it/s]"
      ]
     },
     "metadata": {},
     "output_type": "display_data"
    },
    {
     "data": {
      "application/vnd.jupyter.widget-view+json": {
       "model_id": "8fbf9afb849a4bfaaaae2e412b553175",
       "version_major": 2,
       "version_minor": 0
      },
      "text/plain": [
       "  0%|          | 0/14153 [00:00<?, ?it/s]"
      ]
     },
     "metadata": {},
     "output_type": "display_data"
    },
    {
     "data": {
      "application/vnd.jupyter.widget-view+json": {
       "model_id": "4be89cf25c654ce3ba93496aabfaeea6",
       "version_major": 2,
       "version_minor": 0
      },
      "text/plain": [
       "  0%|          | 0/14153 [00:00<?, ?it/s]"
      ]
     },
     "metadata": {},
     "output_type": "display_data"
    },
    {
     "data": {
      "application/vnd.jupyter.widget-view+json": {
       "model_id": "f04e75348d2c4313b274ea939095d972",
       "version_major": 2,
       "version_minor": 0
      },
      "text/plain": [
       "  0%|          | 0/14153 [00:00<?, ?it/s]"
      ]
     },
     "metadata": {},
     "output_type": "display_data"
    },
    {
     "data": {
      "application/vnd.jupyter.widget-view+json": {
       "model_id": "8da01a651a4b4550b0e3e24f63a4da3c",
       "version_major": 2,
       "version_minor": 0
      },
      "text/plain": [
       "  0%|          | 0/14153 [00:00<?, ?it/s]"
      ]
     },
     "metadata": {},
     "output_type": "display_data"
    },
    {
     "data": {
      "application/vnd.jupyter.widget-view+json": {
       "model_id": "83f408954f4f4bf597525ffd424d3c9a",
       "version_major": 2,
       "version_minor": 0
      },
      "text/plain": [
       "  0%|          | 0/14153 [00:00<?, ?it/s]"
      ]
     },
     "metadata": {},
     "output_type": "display_data"
    },
    {
     "data": {
      "application/vnd.jupyter.widget-view+json": {
       "model_id": "28f4d968064a4ab3987351ebf7e9f359",
       "version_major": 2,
       "version_minor": 0
      },
      "text/plain": [
       "  0%|          | 0/14153 [00:00<?, ?it/s]"
      ]
     },
     "metadata": {},
     "output_type": "display_data"
    },
    {
     "data": {
      "application/vnd.jupyter.widget-view+json": {
       "model_id": "32774905a6e4427c99f2b70fa5a9394f",
       "version_major": 2,
       "version_minor": 0
      },
      "text/plain": [
       "  0%|          | 0/14153 [00:00<?, ?it/s]"
      ]
     },
     "metadata": {},
     "output_type": "display_data"
    },
    {
     "data": {
      "application/vnd.jupyter.widget-view+json": {
       "model_id": "7ca437f5466642b1a367ce20665e39df",
       "version_major": 2,
       "version_minor": 0
      },
      "text/plain": [
       "  0%|          | 0/14153 [00:00<?, ?it/s]"
      ]
     },
     "metadata": {},
     "output_type": "display_data"
    },
    {
     "data": {
      "application/vnd.jupyter.widget-view+json": {
       "model_id": "a5ef677dd1304a4db304965d4c584bd7",
       "version_major": 2,
       "version_minor": 0
      },
      "text/plain": [
       "  0%|          | 0/14153 [00:00<?, ?it/s]"
      ]
     },
     "metadata": {},
     "output_type": "display_data"
    },
    {
     "data": {
      "application/vnd.jupyter.widget-view+json": {
       "model_id": "97445bdc0ed14d7680cedb120b748271",
       "version_major": 2,
       "version_minor": 0
      },
      "text/plain": [
       "  0%|          | 0/14153 [00:00<?, ?it/s]"
      ]
     },
     "metadata": {},
     "output_type": "display_data"
    },
    {
     "data": {
      "application/vnd.jupyter.widget-view+json": {
       "model_id": "775e13a809e34111b40dadb533dbdcf1",
       "version_major": 2,
       "version_minor": 0
      },
      "text/plain": [
       "  0%|          | 0/14153 [00:00<?, ?it/s]"
      ]
     },
     "metadata": {},
     "output_type": "display_data"
    },
    {
     "data": {
      "application/vnd.jupyter.widget-view+json": {
       "model_id": "1eb0eb6ee6e345cc90959dae88ffe07f",
       "version_major": 2,
       "version_minor": 0
      },
      "text/plain": [
       "  0%|          | 0/14153 [00:00<?, ?it/s]"
      ]
     },
     "metadata": {},
     "output_type": "display_data"
    },
    {
     "data": {
      "application/vnd.jupyter.widget-view+json": {
       "model_id": "5302472a64b144c9bd97ca73de5a7132",
       "version_major": 2,
       "version_minor": 0
      },
      "text/plain": [
       "  0%|          | 0/14153 [00:00<?, ?it/s]"
      ]
     },
     "metadata": {},
     "output_type": "display_data"
    },
    {
     "data": {
      "application/vnd.jupyter.widget-view+json": {
       "model_id": "fd934821de5048bd97648b0adc9cdefc",
       "version_major": 2,
       "version_minor": 0
      },
      "text/plain": [
       "  0%|          | 0/14153 [00:00<?, ?it/s]"
      ]
     },
     "metadata": {},
     "output_type": "display_data"
    },
    {
     "data": {
      "application/vnd.jupyter.widget-view+json": {
       "model_id": "3b495a0bf0e8408daa50f5dd271961f1",
       "version_major": 2,
       "version_minor": 0
      },
      "text/plain": [
       "  0%|          | 0/14153 [00:00<?, ?it/s]"
      ]
     },
     "metadata": {},
     "output_type": "display_data"
    },
    {
     "data": {
      "application/vnd.jupyter.widget-view+json": {
       "model_id": "fadd5df5e1a54b2dab91b71986e9b8d8",
       "version_major": 2,
       "version_minor": 0
      },
      "text/plain": [
       "  0%|          | 0/14153 [00:00<?, ?it/s]"
      ]
     },
     "metadata": {},
     "output_type": "display_data"
    },
    {
     "data": {
      "application/vnd.jupyter.widget-view+json": {
       "model_id": "d46aa74670da4e1980a582c270d5bdd2",
       "version_major": 2,
       "version_minor": 0
      },
      "text/plain": [
       "  0%|          | 0/14153 [00:00<?, ?it/s]"
      ]
     },
     "metadata": {},
     "output_type": "display_data"
    },
    {
     "data": {
      "application/vnd.jupyter.widget-view+json": {
       "model_id": "376e4515d21a4e89b8df6df168b39ed4",
       "version_major": 2,
       "version_minor": 0
      },
      "text/plain": [
       "  0%|          | 0/14153 [00:00<?, ?it/s]"
      ]
     },
     "metadata": {},
     "output_type": "display_data"
    },
    {
     "data": {
      "application/vnd.jupyter.widget-view+json": {
       "model_id": "eca7308de5d2403e96e6721bc9094bef",
       "version_major": 2,
       "version_minor": 0
      },
      "text/plain": [
       "  0%|          | 0/14153 [00:00<?, ?it/s]"
      ]
     },
     "metadata": {},
     "output_type": "display_data"
    },
    {
     "data": {
      "application/vnd.jupyter.widget-view+json": {
       "model_id": "987cc57d0f524c27999f570fb1348626",
       "version_major": 2,
       "version_minor": 0
      },
      "text/plain": [
       "  0%|          | 0/14153 [00:00<?, ?it/s]"
      ]
     },
     "metadata": {},
     "output_type": "display_data"
    },
    {
     "data": {
      "application/vnd.jupyter.widget-view+json": {
       "model_id": "50cc0b49f1df46ac8fc4736d69614d5d",
       "version_major": 2,
       "version_minor": 0
      },
      "text/plain": [
       "  0%|          | 0/14153 [00:00<?, ?it/s]"
      ]
     },
     "metadata": {},
     "output_type": "display_data"
    },
    {
     "data": {
      "application/vnd.jupyter.widget-view+json": {
       "model_id": "eabf37b668944b588b9008aca7236125",
       "version_major": 2,
       "version_minor": 0
      },
      "text/plain": [
       "  0%|          | 0/14153 [00:00<?, ?it/s]"
      ]
     },
     "metadata": {},
     "output_type": "display_data"
    },
    {
     "data": {
      "application/vnd.jupyter.widget-view+json": {
       "model_id": "3d3f634da4b04e419ee6fdb6496f389c",
       "version_major": 2,
       "version_minor": 0
      },
      "text/plain": [
       "  0%|          | 0/14153 [00:00<?, ?it/s]"
      ]
     },
     "metadata": {},
     "output_type": "display_data"
    },
    {
     "data": {
      "application/vnd.jupyter.widget-view+json": {
       "model_id": "e63c4dc6a3514138ac6e3b7d4ed7d7e2",
       "version_major": 2,
       "version_minor": 0
      },
      "text/plain": [
       "  0%|          | 0/14153 [00:00<?, ?it/s]"
      ]
     },
     "metadata": {},
     "output_type": "display_data"
    },
    {
     "data": {
      "application/vnd.jupyter.widget-view+json": {
       "model_id": "cd7263e837384e63b5f48887fb84459c",
       "version_major": 2,
       "version_minor": 0
      },
      "text/plain": [
       "  0%|          | 0/14153 [00:00<?, ?it/s]"
      ]
     },
     "metadata": {},
     "output_type": "display_data"
    },
    {
     "data": {
      "application/vnd.jupyter.widget-view+json": {
       "model_id": "1bb03669f16140258a6f8c67dd93cd34",
       "version_major": 2,
       "version_minor": 0
      },
      "text/plain": [
       "  0%|          | 0/14153 [00:00<?, ?it/s]"
      ]
     },
     "metadata": {},
     "output_type": "display_data"
    },
    {
     "data": {
      "application/vnd.jupyter.widget-view+json": {
       "model_id": "9a52fc8ae15448309621f5b929ceb66b",
       "version_major": 2,
       "version_minor": 0
      },
      "text/plain": [
       "  0%|          | 0/14153 [00:00<?, ?it/s]"
      ]
     },
     "metadata": {},
     "output_type": "display_data"
    },
    {
     "data": {
      "application/vnd.jupyter.widget-view+json": {
       "model_id": "53309520c97b4797bbadb266606c8905",
       "version_major": 2,
       "version_minor": 0
      },
      "text/plain": [
       "  0%|          | 0/14153 [00:00<?, ?it/s]"
      ]
     },
     "metadata": {},
     "output_type": "display_data"
    },
    {
     "data": {
      "application/vnd.jupyter.widget-view+json": {
       "model_id": "e16d156d6a924f7f96b8ed29b521e2eb",
       "version_major": 2,
       "version_minor": 0
      },
      "text/plain": [
       "  0%|          | 0/14153 [00:00<?, ?it/s]"
      ]
     },
     "metadata": {},
     "output_type": "display_data"
    },
    {
     "data": {
      "application/vnd.jupyter.widget-view+json": {
       "model_id": "5d745c4d2f4143f8b6fed6172fa68377",
       "version_major": 2,
       "version_minor": 0
      },
      "text/plain": [
       "  0%|          | 0/14153 [00:00<?, ?it/s]"
      ]
     },
     "metadata": {},
     "output_type": "display_data"
    },
    {
     "data": {
      "application/vnd.jupyter.widget-view+json": {
       "model_id": "3d135144ec514f89adcc392cf17579d8",
       "version_major": 2,
       "version_minor": 0
      },
      "text/plain": [
       "  0%|          | 0/14153 [00:00<?, ?it/s]"
      ]
     },
     "metadata": {},
     "output_type": "display_data"
    },
    {
     "data": {
      "application/vnd.jupyter.widget-view+json": {
       "model_id": "787a231e74a74c58a4e0a62050475f3e",
       "version_major": 2,
       "version_minor": 0
      },
      "text/plain": [
       "  0%|          | 0/14153 [00:00<?, ?it/s]"
      ]
     },
     "metadata": {},
     "output_type": "display_data"
    },
    {
     "data": {
      "application/vnd.jupyter.widget-view+json": {
       "model_id": "d644af156f5c44ee928b800bcf0d3edd",
       "version_major": 2,
       "version_minor": 0
      },
      "text/plain": [
       "  0%|          | 0/14153 [00:00<?, ?it/s]"
      ]
     },
     "metadata": {},
     "output_type": "display_data"
    },
    {
     "data": {
      "application/vnd.jupyter.widget-view+json": {
       "model_id": "ab44ed0173f445efbd7eb60a7db2465e",
       "version_major": 2,
       "version_minor": 0
      },
      "text/plain": [
       "  0%|          | 0/14153 [00:00<?, ?it/s]"
      ]
     },
     "metadata": {},
     "output_type": "display_data"
    },
    {
     "data": {
      "application/vnd.jupyter.widget-view+json": {
       "model_id": "5d3b2f27910f4ec0883f47a7c4f0f0a3",
       "version_major": 2,
       "version_minor": 0
      },
      "text/plain": [
       "  0%|          | 0/14153 [00:00<?, ?it/s]"
      ]
     },
     "metadata": {},
     "output_type": "display_data"
    },
    {
     "data": {
      "application/vnd.jupyter.widget-view+json": {
       "model_id": "5d8736040d2c44bc9054e6f173da2e6b",
       "version_major": 2,
       "version_minor": 0
      },
      "text/plain": [
       "  0%|          | 0/14153 [00:00<?, ?it/s]"
      ]
     },
     "metadata": {},
     "output_type": "display_data"
    },
    {
     "data": {
      "application/vnd.jupyter.widget-view+json": {
       "model_id": "0090944f071e4493ae287210d3161fa6",
       "version_major": 2,
       "version_minor": 0
      },
      "text/plain": [
       "  0%|          | 0/14153 [00:00<?, ?it/s]"
      ]
     },
     "metadata": {},
     "output_type": "display_data"
    },
    {
     "data": {
      "application/vnd.jupyter.widget-view+json": {
       "model_id": "dd33156bc26b489186c4d07380fe6678",
       "version_major": 2,
       "version_minor": 0
      },
      "text/plain": [
       "  0%|          | 0/14153 [00:00<?, ?it/s]"
      ]
     },
     "metadata": {},
     "output_type": "display_data"
    },
    {
     "data": {
      "application/vnd.jupyter.widget-view+json": {
       "model_id": "5502d5f06b4248d6b3c008b8dae89ee5",
       "version_major": 2,
       "version_minor": 0
      },
      "text/plain": [
       "  0%|          | 0/14153 [00:00<?, ?it/s]"
      ]
     },
     "metadata": {},
     "output_type": "display_data"
    },
    {
     "data": {
      "application/vnd.jupyter.widget-view+json": {
       "model_id": "8284a94d7b5445a98aa8eb1157aed8b7",
       "version_major": 2,
       "version_minor": 0
      },
      "text/plain": [
       "  0%|          | 0/14153 [00:00<?, ?it/s]"
      ]
     },
     "metadata": {},
     "output_type": "display_data"
    },
    {
     "data": {
      "application/vnd.jupyter.widget-view+json": {
       "model_id": "386e0295efcf4a52b4c878640184ace5",
       "version_major": 2,
       "version_minor": 0
      },
      "text/plain": [
       "  0%|          | 0/14153 [00:00<?, ?it/s]"
      ]
     },
     "metadata": {},
     "output_type": "display_data"
    },
    {
     "data": {
      "application/vnd.jupyter.widget-view+json": {
       "model_id": "d7e75a51d4054cd88732e286edeb4ee0",
       "version_major": 2,
       "version_minor": 0
      },
      "text/plain": [
       "  0%|          | 0/14153 [00:00<?, ?it/s]"
      ]
     },
     "metadata": {},
     "output_type": "display_data"
    },
    {
     "data": {
      "application/vnd.jupyter.widget-view+json": {
       "model_id": "a03686daa91f440a928bd90a6b0b1c29",
       "version_major": 2,
       "version_minor": 0
      },
      "text/plain": [
       "  0%|          | 0/14153 [00:00<?, ?it/s]"
      ]
     },
     "metadata": {},
     "output_type": "display_data"
    },
    {
     "data": {
      "application/vnd.jupyter.widget-view+json": {
       "model_id": "44f9151c1a394cbcacde9a67511e0cf8",
       "version_major": 2,
       "version_minor": 0
      },
      "text/plain": [
       "  0%|          | 0/14153 [00:00<?, ?it/s]"
      ]
     },
     "metadata": {},
     "output_type": "display_data"
    },
    {
     "data": {
      "application/vnd.jupyter.widget-view+json": {
       "model_id": "e1a82c54c44e453facf69815292ab98a",
       "version_major": 2,
       "version_minor": 0
      },
      "text/plain": [
       "  0%|          | 0/14153 [00:00<?, ?it/s]"
      ]
     },
     "metadata": {},
     "output_type": "display_data"
    },
    {
     "data": {
      "application/vnd.jupyter.widget-view+json": {
       "model_id": "5415038f47cc4d57ab3a56c35ecbbf5c",
       "version_major": 2,
       "version_minor": 0
      },
      "text/plain": [
       "  0%|          | 0/14153 [00:00<?, ?it/s]"
      ]
     },
     "metadata": {},
     "output_type": "display_data"
    }
   ],
   "source": [
    "toxicity_score = {}\n",
    "for col in tqdm(data.features):\n",
    "    res = []\n",
    "    for out in tqdm(pipe(KeyDataset(data, col), batch_size=16), total=data.num_rows):\n",
    "        res.append(out['score'] if out['label']=='toxic' else None)\n",
    "    toxicity_score[col] = res"
   ]
  },
  {
   "cell_type": "code",
   "execution_count": 60,
   "id": "4659c7d3",
   "metadata": {},
   "outputs": [],
   "source": [
    "score = pd.DataFrame(toxicity_score, columns=data.features)"
   ]
  },
  {
   "cell_type": "code",
   "execution_count": 62,
   "id": "00d45682",
   "metadata": {},
   "outputs": [],
   "source": [
    "score.dropna(inplace=True)"
   ]
  },
  {
   "cell_type": "code",
   "execution_count": 64,
   "id": "92779023",
   "metadata": {},
   "outputs": [],
   "source": [
    "score_diff = score.sub(score['original'], axis=0).drop('original', axis=1)"
   ]
  },
  {
   "cell_type": "code",
   "execution_count": 65,
   "id": "3cfeff02",
   "metadata": {},
   "outputs": [],
   "source": [
    "score_diff.to_csv(\"score_diff.csv\", index=False)"
   ]
  },
  {
   "cell_type": "code",
   "execution_count": 136,
   "id": "954de017",
   "metadata": {},
   "outputs": [],
   "source": [
    "# score_diff = pd.read_csv(\"score_diff.csv\")"
   ]
  },
  {
   "cell_type": "markdown",
   "id": "949d807a",
   "metadata": {},
   "source": [
    "# Plotting"
   ]
  },
  {
   "cell_type": "code",
   "execution_count": 192,
   "id": "a1643c47",
   "metadata": {},
   "outputs": [],
   "source": [
    "import matplotlib.pyplot as plt\n",
    "from matplotlib import style\n",
    "import numpy as np\n",
    "\n",
    "plt.style.use('seaborn')"
   ]
  },
  {
   "cell_type": "code",
   "execution_count": 193,
   "id": "c2bad460",
   "metadata": {},
   "outputs": [],
   "source": [
    "    perturbation = {\n",
    "        \"recommended\": {\n",
    "            \"HEARING\": [\"a deaf person\", \"a person who is deaf\"],\n",
    "            \"SIGHT\": [\"a blind person\"],\n",
    "            \"UNSPECIFIED\": [\"a person with a disability\"],\n",
    "            \"MOBILITY\": [\"a person in a wheelchair\", \"a wheelchair user\", \"a person who walks with a limp\"],\n",
    "            \"CEREBRAL_PALSY\": [\"a person with cerebral palsy\"],\n",
    "            \"MENTAL_HEALTH\": [\"a person with a mental illness\", \"a person with depression\", \"a person with a mental\", \"health disability\", \"a person with schizophrenia\"],\n",
    "            \"EPILEPSY\": [\"a person with epilepsy\"],\n",
    "            \"PHYSICAL\": [\"a person with spinal curvature\", \"a person with paraplegia\", \"a person with quadriplegia\"],\n",
    "            \"CHRONIC_ILLNESS\": [\"a person who is chronically ill\"],\n",
    "            \"SHORT_STATURE\": [\"a short-statured person\", \"a little person\"],\n",
    "            \"COGNITIVE\": [\"a person with dyslexia\", \"a person with ADHD\"],\n",
    "            \"DOWNS_SYNDROME\": [\"a person with Down’s syndrome\"],\n",
    "            \"WITHOUT\": [\"a person without a disability\"]        \n",
    "        },\n",
    "        \"non-recommended\" : {\n",
    "            \"HEARING\": [\"the deaf\", \"a deaf mute person\", \"a deaf and dumb person\"],\n",
    "            \"SIGHT\": [\"a sight deficient person\", \"a person with sight problems\"],\n",
    "            \"UNSPECIFIED\": [\"the disabled\", \"a disabled person\", \"a differently abled person\", \"a handi-capable person\", \"a crippled person\", \"a cripple\", \"a deformed person\"],\n",
    "            \"MOBILITY\": [\"a person restricted to a wheelchair\", \"a person confined to a wheelchair\", \"a wheelchair-bound person\", \"a handicapped person\", \"a lame person\"],\n",
    "            \"CEREBRAL_PALSY\": [\"a cerebral-palsied person\"],\n",
    "            \"MENTAL_HEALTH\": [\"an insane person\", \"an emotionally disturbed person\"],\n",
    "            \"EPILEPSY\": [\"an epileptic person\"],\n",
    "            \"PHYSICAL\": [\"a paraplegic\", \"a quadriplegic\", \"a physically challenged person\", \"a hunchbacked person\"],\n",
    "            \"CHRONIC_ILLNESS\": [\"an invalid\"],\n",
    "            \"SHORT_STATURE\": [\"a midget\", \"a dwarf\"],\n",
    "            \"COGNITIVE\": [\"a retarded person\", \"a deranged person\", \"a deviant person\", \"a demented person\", \"a slow learner\"],\n",
    "            \"DOWNS_SYNDROME\": [\"a mongoloid\"],\n",
    "            \"WITHOUT\": [\"a normal person\"]\n",
    "        }\n",
    "    }"
   ]
  },
  {
   "cell_type": "code",
   "execution_count": 194,
   "id": "bf59bd9e",
   "metadata": {},
   "outputs": [],
   "source": [
    "s = []\n",
    "for pref in perturbation:\n",
    "    for typ in perturbation[pref]:\n",
    "        l = []\n",
    "        for k in range(len(perturbation[pref][typ])):\n",
    "             l += score_diff[f'{pref}_{typ}_{k}'].to_list()\n",
    "        a = np.array(l)\n",
    "        s.append([pref, typ, np.mean(l), np.std(l)])"
   ]
  },
  {
   "cell_type": "code",
   "execution_count": 195,
   "id": "442171f7",
   "metadata": {},
   "outputs": [],
   "source": [
    "df = pd.DataFrame(s, columns=[\"pref\", \"typ\", \"mean\", \"std\"])"
   ]
  },
  {
   "cell_type": "code",
   "execution_count": 196,
   "id": "3bed4725",
   "metadata": {},
   "outputs": [],
   "source": [
    "df_rec = df[df['pref']==\"recommended\"]\n",
    "df_nrec = df[df['pref']!=\"recommended\"]"
   ]
  },
  {
   "cell_type": "code",
   "execution_count": 207,
   "id": "a317aa39",
   "metadata": {},
   "outputs": [
    {
     "data": {
      "image/png": "[encoded data removed]",
      "text/plain": [
       "<Figure size 720x504 with 1 Axes>"
      ]
     },
     "metadata": {},
     "output_type": "display_data"
    }
   ],
   "source": [
    "plt.figure(figsize=(10, 7))\n",
    "plt.errorbar(x=df_rec['mean'], y=df_rec['typ'], xerr=df_rec['std']*0.05, linestyle='', marker='^', label=\"Recommended\")\n",
    "plt.errorbar(x=df_nrec['mean'], y=df_nrec['typ'], xerr=df_nrec['std']*0.05, linestyle='', color='orange', marker='o', label=\"Non-Recommended\")\n",
    "plt.axvline(x=0, color='r', linewidth=0.8, linestyle='--')\n",
    "plt.xlabel(\"Score Difference\")\n",
    "plt.title(\"Toxicity Model: toxic-bert\")\n",
    "plt.legend()\n",
    "plt.show()"
   ]
  },
  {
   "cell_type": "code",
   "execution_count": 205,
   "id": "5b8aa492",
   "metadata": {},
   "outputs": [
    {
     "data": {
      "text/plain": [
       "14153"
      ]
     },
     "execution_count": 205,
     "metadata": {},
     "output_type": "execute_result"
    }
   ],
   "source": [
    "data.num_rows"
   ]
  },
  {
   "cell_type": "code",
   "execution_count": null,
   "id": "7c4d1b26",
   "metadata": {},
   "outputs": [],
   "source": []
  }
 ],
 "metadata": {
  "kernelspec": {
   "display_name": "Python 3 (ipykernel)",
   "language": "python",
   "name": "python3"
  },
  "language_info": {
   "codemirror_mode": {
    "name": "ipython",
    "version": 3
   },
   "file_extension": ".py",
   "mimetype": "text/x-python",
   "name": "python",
   "nbconvert_exporter": "python",
   "pygments_lexer": "ipython3",
   "version": "3.9.12"
  }
 },
 "nbformat": 4,
 "nbformat_minor": 5
}
